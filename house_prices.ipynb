{
 "cells": [
  {
   "cell_type": "code",
   "execution_count": 1,
   "id": "70ff97a1-2ea8-463c-ba65-df6f770e4d27",
   "metadata": {},
   "outputs": [],
   "source": [
    "import pandas as pd\n",
    "import numpy as np\n",
    "import matplotlib.pyplot as plt"
   ]
  },
  {
   "cell_type": "markdown",
   "id": "145d1fbf-6c64-4201-92af-e1774f4f30b7",
   "metadata": {},
   "source": [
    "I posted the following screenshot:\n",
    "\n",
    "<img src=\"screenshot.jpg\" alt=\"drawing\" width=\"400\"/>\n",
    "\n",
    "and said:\n",
    "\n",
    "_If you put your \\\\$400K into an index fund in 1997, you’d have \\\\$2.6M today. And you don’t have to replace the roof on a portfolio._\n",
    "\n",
    "Of course, this was an unfair comparison. The stock market return includes dividends, reinvested back into the market. It's not just an increase in stock prices (\"price appreciation\"). But the housing return was just appreciaiton. It does not account for the \"dividend\" -- the rent you implicitly pay to yourself for living in the house.\n",
    "\n",
    "To compare apples to apples, let's calculate the total cumulative return on the house. In other words, how much money you would have if you bought a house in 1997, rented it out, and reinvested the dividends in other (identical) houses all of which you sold in 2024."
   ]
  },
  {
   "cell_type": "markdown",
   "id": "579fe063-c0fb-4bf1-b358-938d8b2f08bc",
   "metadata": {},
   "source": [
    "Define start and and year, as well as purchase and sale prices:"
   ]
  },
  {
   "cell_type": "code",
   "execution_count": 2,
   "id": "94c1d633-ea89-4fed-9364-e9aba4043cb8",
   "metadata": {},
   "outputs": [],
   "source": [
    "start_year = 1997\n",
    "end_year = 2024\n",
    "\n",
    "pstart = 400\n",
    "pend = 1300"
   ]
  },
  {
   "cell_type": "markdown",
   "id": "8cadcdd7-5b0e-4896-9cc5-814ea8aea9dd",
   "metadata": {},
   "source": [
    "## Get Price/Rent Data"
   ]
  },
  {
   "cell_type": "markdown",
   "id": "12bc8f50-1521-4ccd-b313-b47117dbba74",
   "metadata": {},
   "source": [
    "Import OECD Price/Rent data for the U.S.:"
   ]
  },
  {
   "cell_type": "code",
   "execution_count": 3,
   "id": "2829a407-1f74-437d-b72b-c08176b7a8db",
   "metadata": {},
   "outputs": [
    {
     "data": {
      "text/html": [
       "<div>\n",
       "<style scoped>\n",
       "    .dataframe tbody tr th:only-of-type {\n",
       "        vertical-align: middle;\n",
       "    }\n",
       "\n",
       "    .dataframe tbody tr th {\n",
       "        vertical-align: top;\n",
       "    }\n",
       "\n",
       "    .dataframe thead th {\n",
       "        text-align: right;\n",
       "    }\n",
       "</style>\n",
       "<table border=\"1\" class=\"dataframe\">\n",
       "  <thead>\n",
       "    <tr style=\"text-align: right;\">\n",
       "      <th></th>\n",
       "      <th>TIME_PERIOD</th>\n",
       "      <th>OBS_VALUE</th>\n",
       "    </tr>\n",
       "  </thead>\n",
       "  <tbody>\n",
       "    <tr>\n",
       "      <th>0</th>\n",
       "      <td>1990-Q4</td>\n",
       "      <td>93.158817</td>\n",
       "    </tr>\n",
       "    <tr>\n",
       "      <th>1</th>\n",
       "      <td>1970-Q3</td>\n",
       "      <td>92.337174</td>\n",
       "    </tr>\n",
       "    <tr>\n",
       "      <th>2</th>\n",
       "      <td>1970-Q4</td>\n",
       "      <td>92.330022</td>\n",
       "    </tr>\n",
       "    <tr>\n",
       "      <th>3</th>\n",
       "      <td>2020-Q3</td>\n",
       "      <td>113.368213</td>\n",
       "    </tr>\n",
       "    <tr>\n",
       "      <th>4</th>\n",
       "      <td>2020-Q4</td>\n",
       "      <td>118.081556</td>\n",
       "    </tr>\n",
       "  </tbody>\n",
       "</table>\n",
       "</div>"
      ],
      "text/plain": [
       "  TIME_PERIOD   OBS_VALUE\n",
       "0     1990-Q4   93.158817\n",
       "1     1970-Q3   92.337174\n",
       "2     1970-Q4   92.330022\n",
       "3     2020-Q3  113.368213\n",
       "4     2020-Q4  118.081556"
      ]
     },
     "execution_count": 3,
     "metadata": {},
     "output_type": "execute_result"
    }
   ],
   "source": [
    "data = pd.read_csv(\"price_rent.csv\")\n",
    "data = data[[\"TIME_PERIOD\",\"OBS_VALUE\"]]\n",
    "data.head()"
   ]
  },
  {
   "cell_type": "code",
   "execution_count": 4,
   "id": "bcf6dbcb-a96e-48a8-b710-701d7e65adcd",
   "metadata": {},
   "outputs": [
    {
     "data": {
      "text/html": [
       "<div>\n",
       "<style scoped>\n",
       "    .dataframe tbody tr th:only-of-type {\n",
       "        vertical-align: middle;\n",
       "    }\n",
       "\n",
       "    .dataframe tbody tr th {\n",
       "        vertical-align: top;\n",
       "    }\n",
       "\n",
       "    .dataframe thead th {\n",
       "        text-align: right;\n",
       "    }\n",
       "</style>\n",
       "<table border=\"1\" class=\"dataframe\">\n",
       "  <thead>\n",
       "    <tr style=\"text-align: right;\">\n",
       "      <th></th>\n",
       "      <th>TIME_PERIOD</th>\n",
       "      <th>OBS_VALUE</th>\n",
       "      <th>year</th>\n",
       "      <th>quarter</th>\n",
       "    </tr>\n",
       "  </thead>\n",
       "  <tbody>\n",
       "    <tr>\n",
       "      <th>12</th>\n",
       "      <td>1970-Q1</td>\n",
       "      <td>93.890457</td>\n",
       "      <td>1970</td>\n",
       "      <td>1</td>\n",
       "    </tr>\n",
       "    <tr>\n",
       "      <th>13</th>\n",
       "      <td>1970-Q2</td>\n",
       "      <td>92.262908</td>\n",
       "      <td>1970</td>\n",
       "      <td>2</td>\n",
       "    </tr>\n",
       "    <tr>\n",
       "      <th>1</th>\n",
       "      <td>1970-Q3</td>\n",
       "      <td>92.337174</td>\n",
       "      <td>1970</td>\n",
       "      <td>3</td>\n",
       "    </tr>\n",
       "    <tr>\n",
       "      <th>2</th>\n",
       "      <td>1970-Q4</td>\n",
       "      <td>92.330022</td>\n",
       "      <td>1970</td>\n",
       "      <td>4</td>\n",
       "    </tr>\n",
       "    <tr>\n",
       "      <th>30</th>\n",
       "      <td>1971-Q1</td>\n",
       "      <td>93.936044</td>\n",
       "      <td>1971</td>\n",
       "      <td>1</td>\n",
       "    </tr>\n",
       "  </tbody>\n",
       "</table>\n",
       "</div>"
      ],
      "text/plain": [
       "   TIME_PERIOD  OBS_VALUE  year  quarter\n",
       "12     1970-Q1  93.890457  1970        1\n",
       "13     1970-Q2  92.262908  1970        2\n",
       "1      1970-Q3  92.337174  1970        3\n",
       "2      1970-Q4  92.330022  1970        4\n",
       "30     1971-Q1  93.936044  1971        1"
      ]
     },
     "execution_count": 4,
     "metadata": {},
     "output_type": "execute_result"
    }
   ],
   "source": [
    "data[\"year\"] = data[\"TIME_PERIOD\"].str[0:4].astype(int)\n",
    "data[\"quarter\"] = data[\"TIME_PERIOD\"].str[-1].astype(int)\n",
    "data.sort_values([\"year\",\"quarter\"], inplace=True)\n",
    "data.head()"
   ]
  },
  {
   "cell_type": "markdown",
   "id": "4bd37bae-2090-40b0-8d6c-a22908a48598",
   "metadata": {},
   "source": [
    "Trim the price/rent data accordingly and plot:"
   ]
  },
  {
   "cell_type": "code",
   "execution_count": 5,
   "id": "a807dd80-c84f-4b9f-97d6-bd4f8da0473f",
   "metadata": {},
   "outputs": [
    {
     "data": {
      "text/html": [
       "<div>\n",
       "<style scoped>\n",
       "    .dataframe tbody tr th:only-of-type {\n",
       "        vertical-align: middle;\n",
       "    }\n",
       "\n",
       "    .dataframe tbody tr th {\n",
       "        vertical-align: top;\n",
       "    }\n",
       "\n",
       "    .dataframe thead th {\n",
       "        text-align: right;\n",
       "    }\n",
       "</style>\n",
       "<table border=\"1\" class=\"dataframe\">\n",
       "  <thead>\n",
       "    <tr style=\"text-align: right;\">\n",
       "      <th></th>\n",
       "      <th>TIME_PERIOD</th>\n",
       "      <th>OBS_VALUE</th>\n",
       "      <th>year</th>\n",
       "      <th>quarter</th>\n",
       "    </tr>\n",
       "  </thead>\n",
       "  <tbody>\n",
       "    <tr>\n",
       "      <th>198</th>\n",
       "      <td>1997-Q1</td>\n",
       "      <td>89.520556</td>\n",
       "      <td>1997</td>\n",
       "      <td>1</td>\n",
       "    </tr>\n",
       "    <tr>\n",
       "      <th>199</th>\n",
       "      <td>1997-Q2</td>\n",
       "      <td>89.586181</td>\n",
       "      <td>1997</td>\n",
       "      <td>2</td>\n",
       "    </tr>\n",
       "    <tr>\n",
       "      <th>200</th>\n",
       "      <td>1997-Q3</td>\n",
       "      <td>89.538848</td>\n",
       "      <td>1997</td>\n",
       "      <td>3</td>\n",
       "    </tr>\n",
       "    <tr>\n",
       "      <th>201</th>\n",
       "      <td>1997-Q4</td>\n",
       "      <td>89.719276</td>\n",
       "      <td>1997</td>\n",
       "      <td>4</td>\n",
       "    </tr>\n",
       "    <tr>\n",
       "      <th>202</th>\n",
       "      <td>1998-Q1</td>\n",
       "      <td>90.124351</td>\n",
       "      <td>1998</td>\n",
       "      <td>1</td>\n",
       "    </tr>\n",
       "  </tbody>\n",
       "</table>\n",
       "</div>"
      ],
      "text/plain": [
       "    TIME_PERIOD  OBS_VALUE  year  quarter\n",
       "198     1997-Q1  89.520556  1997        1\n",
       "199     1997-Q2  89.586181  1997        2\n",
       "200     1997-Q3  89.538848  1997        3\n",
       "201     1997-Q4  89.719276  1997        4\n",
       "202     1998-Q1  90.124351  1998        1"
      ]
     },
     "execution_count": 5,
     "metadata": {},
     "output_type": "execute_result"
    }
   ],
   "source": [
    "data = data.loc[data[\"year\"].between(start_year,end_year),:]\n",
    "data.head()"
   ]
  },
  {
   "cell_type": "code",
   "execution_count": 6,
   "id": "a7e5358f-de07-4f85-8d0d-aee649835b36",
   "metadata": {},
   "outputs": [
    {
     "data": {
      "image/png": "[encoded data removed]",
      "text/plain": [
       "<Figure size 640x480 with 1 Axes>"
      ]
     },
     "metadata": {},
     "output_type": "display_data"
    }
   ],
   "source": [
    "date=data.apply(lambda row: pd.Period(year=row[\"year\"], quarter=row[\"quarter\"], freq='Q'), axis=1).dt.to_timestamp()\n",
    "plt.plot(date, data[\"OBS_VALUE\"])\n",
    "plt.title(\"U.S. Price/Quarterly Rent Ratio\")\n",
    "plt.show()"
   ]
  },
  {
   "cell_type": "markdown",
   "id": "4b418eda-11f5-4145-aadd-1ae9d0b0f5b1",
   "metadata": {},
   "source": [
    "## Compute Cumulative Returns Using Campbell-Shiller Linearization"
   ]
  },
  {
   "cell_type": "markdown",
   "id": "dc0b9a99-07ed-4c3b-a032-0cac4edc0b5a",
   "metadata": {},
   "source": [
    "Log-linearize $\\log(1 + \\exp(pd))$ function of the log-PD ratio around its sample mean $\\bar{pd}$:\n",
    "\n",
    "$\\log(1 + \\exp(pd)) \\approx \\kappa_0 + \\kappa_1 pd$"
   ]
  },
  {
   "cell_type": "code",
   "execution_count": 7,
   "id": "de50aab7-a1fd-430b-ac1c-53987ca56238",
   "metadata": {},
   "outputs": [],
   "source": [
    "data[\"pd\"] = np.log(data[\"OBS_VALUE\"])\n",
    "mean_pd = np.mean(data[\"pd\"])\n",
    "kappa1 = np.exp(mean_pd)/(1+np.exp(mean_pd))\n",
    "kappa0 = np.log(1+np.exp(mean_pd)) - kappa1*mean_pd"
   ]
  },
  {
   "cell_type": "markdown",
   "id": "fcb64064-db36-4f92-baf4-d98b4a1f48f2",
   "metadata": {},
   "source": [
    "Check the quality of the approximation:"
   ]
  },
  {
   "cell_type": "code",
   "execution_count": 8,
   "id": "a14d1406-6dfb-4e4f-a295-34c6999e439f",
   "metadata": {},
   "outputs": [
    {
     "data": {
      "image/png": "[encoded data removed]",
      "text/plain": [
       "<Figure size 640x480 with 1 Axes>"
      ]
     },
     "metadata": {},
     "output_type": "display_data"
    }
   ],
   "source": [
    "true_value = np.log(1+np.exp(data[\"pd\"]))\n",
    "plt.scatter(true_value, kappa0 + kappa1 * data[\"pd\"], label=\"Approximation\")\n",
    "plt.plot(true_value, true_value, 'r', label=\"45* Line\")\n",
    "plt.xlabel(\"True Value\")\n",
    "plt.title(\"log(1 + exp(pd))\")\n",
    "plt.legend()\n",
    "plt.show()"
   ]
  },
  {
   "cell_type": "markdown",
   "id": "2bc962e9-542d-4648-8a5d-2f47453bdf97",
   "metadata": {},
   "source": [
    "Infer starting and ending log \"dividends\" (rents) from prices and log P/D ratios"
   ]
  },
  {
   "cell_type": "code",
   "execution_count": 9,
   "id": "fbd246bb-bb1f-43ac-87e2-f06bbc0f629c",
   "metadata": {},
   "outputs": [],
   "source": [
    "dstart = np.log(pstart) - data[\"pd\"].iloc[0]\n",
    "dend = np.log(pend) - data[\"pd\"].iloc[-1]"
   ]
  },
  {
   "cell_type": "markdown",
   "id": "41997ba7-c8f8-4f93-9280-eafeec866b8b",
   "metadata": {},
   "source": [
    "Calculate cumulative return.\n",
    "\n",
    "First, observe that $R_{t+1} = \\frac{P_{t+1} + D_{t+1}}{P_t} = \\frac{P_{t+1}/D_{t+1} + 1}{P_t/D_t} \\frac{D_{t+1}}{D_t}$.\n",
    "\n",
    "Taking logs and using the log-linear approximation above, we get the log return:\n",
    "\n",
    "$r_{t+1} = \\kappa_0 + \\kappa_1 pd_{t+1} - pd_t + \\Delta d_{t+1}$\n",
    "\n",
    "Cumulative log return from $0$ to $T$ is $\\sum_{t=0}^{T-1} r_{t+1} = d_T - d_0 + (T-1)\\kappa_0 + \\kappa_1 pd_T - pd_0 + \\sum_{t=1}^{T-1}(1-\\kappa_1) pd_t $"
   ]
  },
  {
   "cell_type": "code",
   "execution_count": 10,
   "id": "2ffc7d68-35f3-4b98-ab1c-028e8cfadfd5",
   "metadata": {},
   "outputs": [],
   "source": [
    "T = data.shape[0]\n",
    "r_cum = dend - dstart + (T-1)*kappa0 + kappa1*data[\"pd\"].iloc[-1] - data[\"pd\"].iloc[0] - (1-kappa1)*data[\"pd\"].iloc[1:-1].sum()\n",
    "R_cum = np.exp(r_cum)"
   ]
  },
  {
   "cell_type": "markdown",
   "id": "abcd1006-ab0e-4f16-859f-964951d677de",
   "metadata": {},
   "source": [
    "Calculating the future value of the original purhcases including \"dividends\" (rents):"
   ]
  },
  {
   "cell_type": "code",
   "execution_count": 11,
   "id": "1da5b8bb-f190-4477-9b5a-e0035b444665",
   "metadata": {},
   "outputs": [
    {
     "data": {
      "text/plain": [
       "3554.3606561667298"
      ]
     },
     "metadata": {},
     "output_type": "display_data"
    }
   ],
   "source": [
    "display(pstart * R_cum)"
   ]
  },
  {
   "cell_type": "markdown",
   "id": "91b6e3c7-4611-4e2d-950b-4f436e0091ad",
   "metadata": {},
   "source": [
    "## Accounting for costs\n",
    "\n",
    "The price-rent ratio is in terms of gross rents, which may not be a good comparison to a stock dividend, because of ongoing housing costs like property taxes, maintenance, etc.\n",
    "\n",
    "Suppose that these expenses constitute a share $m$ of gross rents $d_t$. In other words, the net rent is $\\hat{d}_t = (1-m) d_t$. This means that log-PD ratios are overstated by a constant $\\log(1-m)$. We can recompute the future value as a function of $m$:"
   ]
  },
  {
   "cell_type": "code",
   "execution_count": 12,
   "id": "3a2efffa-02ff-4c8a-980b-5b712f4ddf20",
   "metadata": {},
   "outputs": [],
   "source": [
    "def future_value(m):\n",
    "    pd = np.log(data[\"OBS_VALUE\"]) - np.log(1-m)\n",
    "    mean_pd = np.mean(pd)\n",
    "    kappa1 = np.exp(mean_pd)/(1+np.exp(mean_pd))\n",
    "    kappa0 = np.log(1+np.exp(mean_pd)) - kappa1*mean_pd\n",
    "    r_cum = dend - dstart + (T-1)*kappa0 + kappa1*pd.iloc[-1] - pd.iloc[0] - (1-kappa1)*pd.iloc[1:-1].sum()\n",
    "    R_cum = np.exp(r_cum)\n",
    "    return pstart * R_cum"
   ]
  },
  {
   "cell_type": "markdown",
   "id": "7fdf2eae-6ba3-4ab2-96a4-fc64a6dfc5ee",
   "metadata": {},
   "source": [
    "For $m=0$, we get the same result as above. For $m \\rightarrow 1$ -- the case where the entire gross rent is spent on maintenance -- we should get back `pend`. Intuitively, if the net rents are zero, the total return is well captured just by house price appreciation `pend / pstart`."
   ]
  },
  {
   "cell_type": "code",
   "execution_count": 13,
   "id": "77a9ba9a-33d4-466e-8f80-9900db9e93a4",
   "metadata": {},
   "outputs": [
    {
     "data": {
      "text/plain": [
       "1300.1313727579882"
      ]
     },
     "execution_count": 13,
     "metadata": {},
     "output_type": "execute_result"
    }
   ],
   "source": [
    "future_value(0.9999)"
   ]
  },
  {
   "cell_type": "markdown",
   "id": "60a94c33-c9ee-4127-946a-17410a550689",
   "metadata": {},
   "source": [
    "Plot future value as a function of $m$:"
   ]
  },
  {
   "cell_type": "code",
   "execution_count": 14,
   "id": "63666e4c-b364-4942-8fc3-c052707be415",
   "metadata": {},
   "outputs": [
    {
     "data": {
      "image/png": "[encoded data removed]",
      "text/plain": [
       "<Figure size 640x480 with 1 Axes>"
      ]
     },
     "metadata": {},
     "output_type": "display_data"
    }
   ],
   "source": [
    "mvec = np.linspace(0,0.9999,1000)\n",
    "fvvec = [future_value(m) for m in mvec]\n",
    "plt.plot(mvec, fvvec)\n",
    "plt.axhline(2600,color=\"red\",label=\"Stock Return\")\n",
    "plt.xlabel(\"Share of Rent Spent on Maintenance\")\n",
    "plt.ylabel(\"Future Value\")\n",
    "plt.grid(True)\n",
    "plt.title(\"Total Housing Return\")\n",
    "plt.show()"
   ]
  },
  {
   "cell_type": "markdown",
   "id": "5d67811b-9ffa-4196-8193-725dab7e29f5",
   "metadata": {},
   "source": [
    "The graph shows that if more than 30% of rents are spent on taxes, maintenance, etc., stocks were a better investment."
   ]
  }
 ],
 "metadata": {
  "kernelspec": {
   "display_name": "anaconda-ai-2024.04-py310",
   "language": "python",
   "name": "conda-env-anaconda-ai-2024.04-py310-py"
  },
  "language_info": {
   "codemirror_mode": {
    "name": "ipython",
    "version": 3
   },
   "file_extension": ".py",
   "mimetype": "text/x-python",
   "name": "python",
   "nbconvert_exporter": "python",
   "pygments_lexer": "ipython3",
   "version": "3.10.13"
  }
 },
 "nbformat": 4,
 "nbformat_minor": 5
}
